{
 "cells": [
  {
   "cell_type": "markdown",
   "id": "52638711",
   "metadata": {},
   "source": [
    "# Importing the libraries"
   ]
  },
  {
   "cell_type": "code",
   "execution_count": 2,
   "id": "acee489a",
   "metadata": {},
   "outputs": [],
   "source": [
    "import pandas as pd\n",
    "import numpy as np\n",
    "import matplotlib.pyplot as plt\n",
    "import seaborn as sns"
   ]
  },
  {
   "cell_type": "markdown",
   "id": "05441082",
   "metadata": {},
   "source": [
    "# Loading the Dataset"
   ]
  },
  {
   "cell_type": "code",
   "execution_count": 9,
   "id": "269cf3e1",
   "metadata": {},
   "outputs": [],
   "source": [
    "df = pd.read_csv(\"Iris.csv\")"
   ]
  },
  {
   "cell_type": "markdown",
   "id": "dab657e7",
   "metadata": {},
   "source": [
    "# EDA"
   ]
  },
  {
   "cell_type": "code",
   "execution_count": 10,
   "id": "530ae4ee",
   "metadata": {},
   "outputs": [
    {
     "data": {
      "text/plain": [
       "(150, 6)"
      ]
     },
     "execution_count": 10,
     "metadata": {},
     "output_type": "execute_result"
    }
   ],
   "source": [
    "df.shape"
   ]
  },
  {
   "cell_type": "code",
   "execution_count": 11,
   "id": "8526fac3",
   "metadata": {},
   "outputs": [
    {
     "data": {
      "text/html": [
       "<div>\n",
       "<style scoped>\n",
       "    .dataframe tbody tr th:only-of-type {\n",
       "        vertical-align: middle;\n",
       "    }\n",
       "\n",
       "    .dataframe tbody tr th {\n",
       "        vertical-align: top;\n",
       "    }\n",
       "\n",
       "    .dataframe thead th {\n",
       "        text-align: right;\n",
       "    }\n",
       "</style>\n",
       "<table border=\"1\" class=\"dataframe\">\n",
       "  <thead>\n",
       "    <tr style=\"text-align: right;\">\n",
       "      <th></th>\n",
       "      <th>Id</th>\n",
       "      <th>SepalLengthCm</th>\n",
       "      <th>SepalWidthCm</th>\n",
       "      <th>PetalLengthCm</th>\n",
       "      <th>PetalWidthCm</th>\n",
       "      <th>Species</th>\n",
       "    </tr>\n",
       "  </thead>\n",
       "  <tbody>\n",
       "    <tr>\n",
       "      <th>0</th>\n",
       "      <td>1</td>\n",
       "      <td>5.1</td>\n",
       "      <td>3.5</td>\n",
       "      <td>1.4</td>\n",
       "      <td>0.2</td>\n",
       "      <td>Iris-setosa</td>\n",
       "    </tr>\n",
       "    <tr>\n",
       "      <th>1</th>\n",
       "      <td>2</td>\n",
       "      <td>4.9</td>\n",
       "      <td>3.0</td>\n",
       "      <td>1.4</td>\n",
       "      <td>0.2</td>\n",
       "      <td>Iris-setosa</td>\n",
       "    </tr>\n",
       "    <tr>\n",
       "      <th>2</th>\n",
       "      <td>3</td>\n",
       "      <td>4.7</td>\n",
       "      <td>3.2</td>\n",
       "      <td>1.3</td>\n",
       "      <td>0.2</td>\n",
       "      <td>Iris-setosa</td>\n",
       "    </tr>\n",
       "    <tr>\n",
       "      <th>3</th>\n",
       "      <td>4</td>\n",
       "      <td>4.6</td>\n",
       "      <td>3.1</td>\n",
       "      <td>1.5</td>\n",
       "      <td>0.2</td>\n",
       "      <td>Iris-setosa</td>\n",
       "    </tr>\n",
       "    <tr>\n",
       "      <th>4</th>\n",
       "      <td>5</td>\n",
       "      <td>5.0</td>\n",
       "      <td>3.6</td>\n",
       "      <td>1.4</td>\n",
       "      <td>0.2</td>\n",
       "      <td>Iris-setosa</td>\n",
       "    </tr>\n",
       "  </tbody>\n",
       "</table>\n",
       "</div>"
      ],
      "text/plain": [
       "   Id  SepalLengthCm  SepalWidthCm  PetalLengthCm  PetalWidthCm      Species\n",
       "0   1            5.1           3.5            1.4           0.2  Iris-setosa\n",
       "1   2            4.9           3.0            1.4           0.2  Iris-setosa\n",
       "2   3            4.7           3.2            1.3           0.2  Iris-setosa\n",
       "3   4            4.6           3.1            1.5           0.2  Iris-setosa\n",
       "4   5            5.0           3.6            1.4           0.2  Iris-setosa"
      ]
     },
     "execution_count": 11,
     "metadata": {},
     "output_type": "execute_result"
    }
   ],
   "source": [
    "df.head()"
   ]
  },
  {
   "cell_type": "code",
   "execution_count": 12,
   "id": "e713d699",
   "metadata": {},
   "outputs": [],
   "source": [
    "df = df.drop(['Id'], axis=1)"
   ]
  },
  {
   "cell_type": "code",
   "execution_count": 13,
   "id": "d9ffe7a3",
   "metadata": {},
   "outputs": [
    {
     "data": {
      "text/html": [
       "<div>\n",
       "<style scoped>\n",
       "    .dataframe tbody tr th:only-of-type {\n",
       "        vertical-align: middle;\n",
       "    }\n",
       "\n",
       "    .dataframe tbody tr th {\n",
       "        vertical-align: top;\n",
       "    }\n",
       "\n",
       "    .dataframe thead th {\n",
       "        text-align: right;\n",
       "    }\n",
       "</style>\n",
       "<table border=\"1\" class=\"dataframe\">\n",
       "  <thead>\n",
       "    <tr style=\"text-align: right;\">\n",
       "      <th></th>\n",
       "      <th>SepalLengthCm</th>\n",
       "      <th>SepalWidthCm</th>\n",
       "      <th>PetalLengthCm</th>\n",
       "      <th>PetalWidthCm</th>\n",
       "      <th>Species</th>\n",
       "    </tr>\n",
       "  </thead>\n",
       "  <tbody>\n",
       "    <tr>\n",
       "      <th>0</th>\n",
       "      <td>5.1</td>\n",
       "      <td>3.5</td>\n",
       "      <td>1.4</td>\n",
       "      <td>0.2</td>\n",
       "      <td>Iris-setosa</td>\n",
       "    </tr>\n",
       "    <tr>\n",
       "      <th>1</th>\n",
       "      <td>4.9</td>\n",
       "      <td>3.0</td>\n",
       "      <td>1.4</td>\n",
       "      <td>0.2</td>\n",
       "      <td>Iris-setosa</td>\n",
       "    </tr>\n",
       "    <tr>\n",
       "      <th>2</th>\n",
       "      <td>4.7</td>\n",
       "      <td>3.2</td>\n",
       "      <td>1.3</td>\n",
       "      <td>0.2</td>\n",
       "      <td>Iris-setosa</td>\n",
       "    </tr>\n",
       "    <tr>\n",
       "      <th>3</th>\n",
       "      <td>4.6</td>\n",
       "      <td>3.1</td>\n",
       "      <td>1.5</td>\n",
       "      <td>0.2</td>\n",
       "      <td>Iris-setosa</td>\n",
       "    </tr>\n",
       "    <tr>\n",
       "      <th>4</th>\n",
       "      <td>5.0</td>\n",
       "      <td>3.6</td>\n",
       "      <td>1.4</td>\n",
       "      <td>0.2</td>\n",
       "      <td>Iris-setosa</td>\n",
       "    </tr>\n",
       "  </tbody>\n",
       "</table>\n",
       "</div>"
      ],
      "text/plain": [
       "   SepalLengthCm  SepalWidthCm  PetalLengthCm  PetalWidthCm      Species\n",
       "0            5.1           3.5            1.4           0.2  Iris-setosa\n",
       "1            4.9           3.0            1.4           0.2  Iris-setosa\n",
       "2            4.7           3.2            1.3           0.2  Iris-setosa\n",
       "3            4.6           3.1            1.5           0.2  Iris-setosa\n",
       "4            5.0           3.6            1.4           0.2  Iris-setosa"
      ]
     },
     "execution_count": 13,
     "metadata": {},
     "output_type": "execute_result"
    }
   ],
   "source": [
    "df.head()"
   ]
  },
  {
   "cell_type": "code",
   "execution_count": 14,
   "id": "fcfb92d4",
   "metadata": {},
   "outputs": [],
   "source": [
    "df.columns = ['Sepal_length', 'Sepal_width', 'Petal_length', 'Petal_width', 'Species']"
   ]
  },
  {
   "cell_type": "code",
   "execution_count": 15,
   "id": "2d5c244f",
   "metadata": {},
   "outputs": [
    {
     "data": {
      "text/html": [
       "<div>\n",
       "<style scoped>\n",
       "    .dataframe tbody tr th:only-of-type {\n",
       "        vertical-align: middle;\n",
       "    }\n",
       "\n",
       "    .dataframe tbody tr th {\n",
       "        vertical-align: top;\n",
       "    }\n",
       "\n",
       "    .dataframe thead th {\n",
       "        text-align: right;\n",
       "    }\n",
       "</style>\n",
       "<table border=\"1\" class=\"dataframe\">\n",
       "  <thead>\n",
       "    <tr style=\"text-align: right;\">\n",
       "      <th></th>\n",
       "      <th>Sepal_length</th>\n",
       "      <th>Sepal_width</th>\n",
       "      <th>Petal_length</th>\n",
       "      <th>Petal_width</th>\n",
       "      <th>Species</th>\n",
       "    </tr>\n",
       "  </thead>\n",
       "  <tbody>\n",
       "    <tr>\n",
       "      <th>0</th>\n",
       "      <td>5.1</td>\n",
       "      <td>3.5</td>\n",
       "      <td>1.4</td>\n",
       "      <td>0.2</td>\n",
       "      <td>Iris-setosa</td>\n",
       "    </tr>\n",
       "    <tr>\n",
       "      <th>1</th>\n",
       "      <td>4.9</td>\n",
       "      <td>3.0</td>\n",
       "      <td>1.4</td>\n",
       "      <td>0.2</td>\n",
       "      <td>Iris-setosa</td>\n",
       "    </tr>\n",
       "    <tr>\n",
       "      <th>2</th>\n",
       "      <td>4.7</td>\n",
       "      <td>3.2</td>\n",
       "      <td>1.3</td>\n",
       "      <td>0.2</td>\n",
       "      <td>Iris-setosa</td>\n",
       "    </tr>\n",
       "    <tr>\n",
       "      <th>3</th>\n",
       "      <td>4.6</td>\n",
       "      <td>3.1</td>\n",
       "      <td>1.5</td>\n",
       "      <td>0.2</td>\n",
       "      <td>Iris-setosa</td>\n",
       "    </tr>\n",
       "    <tr>\n",
       "      <th>4</th>\n",
       "      <td>5.0</td>\n",
       "      <td>3.6</td>\n",
       "      <td>1.4</td>\n",
       "      <td>0.2</td>\n",
       "      <td>Iris-setosa</td>\n",
       "    </tr>\n",
       "  </tbody>\n",
       "</table>\n",
       "</div>"
      ],
      "text/plain": [
       "   Sepal_length  Sepal_width  Petal_length  Petal_width      Species\n",
       "0           5.1          3.5           1.4          0.2  Iris-setosa\n",
       "1           4.9          3.0           1.4          0.2  Iris-setosa\n",
       "2           4.7          3.2           1.3          0.2  Iris-setosa\n",
       "3           4.6          3.1           1.5          0.2  Iris-setosa\n",
       "4           5.0          3.6           1.4          0.2  Iris-setosa"
      ]
     },
     "execution_count": 15,
     "metadata": {},
     "output_type": "execute_result"
    }
   ],
   "source": [
    "df.head()"
   ]
  },
  {
   "cell_type": "code",
   "execution_count": 16,
   "id": "ccece4f6",
   "metadata": {},
   "outputs": [
    {
     "data": {
      "text/plain": [
       "(150, 5)"
      ]
     },
     "execution_count": 16,
     "metadata": {},
     "output_type": "execute_result"
    }
   ],
   "source": [
    "df.shape"
   ]
  },
  {
   "cell_type": "code",
   "execution_count": 17,
   "id": "07b41e38",
   "metadata": {},
   "outputs": [
    {
     "name": "stdout",
     "output_type": "stream",
     "text": [
      "<class 'pandas.core.frame.DataFrame'>\n",
      "RangeIndex: 150 entries, 0 to 149\n",
      "Data columns (total 5 columns):\n",
      " #   Column        Non-Null Count  Dtype  \n",
      "---  ------        --------------  -----  \n",
      " 0   Sepal_length  150 non-null    float64\n",
      " 1   Sepal_width   150 non-null    float64\n",
      " 2   Petal_length  150 non-null    float64\n",
      " 3   Petal_width   150 non-null    float64\n",
      " 4   Species       150 non-null    object \n",
      "dtypes: float64(4), object(1)\n",
      "memory usage: 6.0+ KB\n"
     ]
    }
   ],
   "source": [
    "df.info()"
   ]
  },
  {
   "cell_type": "code",
   "execution_count": 18,
   "id": "dcee2e2e",
   "metadata": {},
   "outputs": [
    {
     "data": {
      "text/html": [
       "<div>\n",
       "<style scoped>\n",
       "    .dataframe tbody tr th:only-of-type {\n",
       "        vertical-align: middle;\n",
       "    }\n",
       "\n",
       "    .dataframe tbody tr th {\n",
       "        vertical-align: top;\n",
       "    }\n",
       "\n",
       "    .dataframe thead th {\n",
       "        text-align: right;\n",
       "    }\n",
       "</style>\n",
       "<table border=\"1\" class=\"dataframe\">\n",
       "  <thead>\n",
       "    <tr style=\"text-align: right;\">\n",
       "      <th></th>\n",
       "      <th>Sepal_length</th>\n",
       "      <th>Sepal_width</th>\n",
       "      <th>Petal_length</th>\n",
       "      <th>Petal_width</th>\n",
       "    </tr>\n",
       "  </thead>\n",
       "  <tbody>\n",
       "    <tr>\n",
       "      <th>count</th>\n",
       "      <td>150.000000</td>\n",
       "      <td>150.000000</td>\n",
       "      <td>150.000000</td>\n",
       "      <td>150.000000</td>\n",
       "    </tr>\n",
       "    <tr>\n",
       "      <th>mean</th>\n",
       "      <td>5.843333</td>\n",
       "      <td>3.054000</td>\n",
       "      <td>3.758667</td>\n",
       "      <td>1.198667</td>\n",
       "    </tr>\n",
       "    <tr>\n",
       "      <th>std</th>\n",
       "      <td>0.828066</td>\n",
       "      <td>0.433594</td>\n",
       "      <td>1.764420</td>\n",
       "      <td>0.763161</td>\n",
       "    </tr>\n",
       "    <tr>\n",
       "      <th>min</th>\n",
       "      <td>4.300000</td>\n",
       "      <td>2.000000</td>\n",
       "      <td>1.000000</td>\n",
       "      <td>0.100000</td>\n",
       "    </tr>\n",
       "    <tr>\n",
       "      <th>25%</th>\n",
       "      <td>5.100000</td>\n",
       "      <td>2.800000</td>\n",
       "      <td>1.600000</td>\n",
       "      <td>0.300000</td>\n",
       "    </tr>\n",
       "    <tr>\n",
       "      <th>50%</th>\n",
       "      <td>5.800000</td>\n",
       "      <td>3.000000</td>\n",
       "      <td>4.350000</td>\n",
       "      <td>1.300000</td>\n",
       "    </tr>\n",
       "    <tr>\n",
       "      <th>75%</th>\n",
       "      <td>6.400000</td>\n",
       "      <td>3.300000</td>\n",
       "      <td>5.100000</td>\n",
       "      <td>1.800000</td>\n",
       "    </tr>\n",
       "    <tr>\n",
       "      <th>max</th>\n",
       "      <td>7.900000</td>\n",
       "      <td>4.400000</td>\n",
       "      <td>6.900000</td>\n",
       "      <td>2.500000</td>\n",
       "    </tr>\n",
       "  </tbody>\n",
       "</table>\n",
       "</div>"
      ],
      "text/plain": [
       "       Sepal_length  Sepal_width  Petal_length  Petal_width\n",
       "count    150.000000   150.000000    150.000000   150.000000\n",
       "mean       5.843333     3.054000      3.758667     1.198667\n",
       "std        0.828066     0.433594      1.764420     0.763161\n",
       "min        4.300000     2.000000      1.000000     0.100000\n",
       "25%        5.100000     2.800000      1.600000     0.300000\n",
       "50%        5.800000     3.000000      4.350000     1.300000\n",
       "75%        6.400000     3.300000      5.100000     1.800000\n",
       "max        7.900000     4.400000      6.900000     2.500000"
      ]
     },
     "execution_count": 18,
     "metadata": {},
     "output_type": "execute_result"
    }
   ],
   "source": [
    "df.describe()"
   ]
  },
  {
   "cell_type": "code",
   "execution_count": 23,
   "id": "08ebdf77",
   "metadata": {},
   "outputs": [
    {
     "data": {
      "text/plain": [
       "Sepal_length    0\n",
       "Sepal_width     0\n",
       "Petal_length    0\n",
       "Petal_width     0\n",
       "Species         0\n",
       "dtype: int64"
      ]
     },
     "execution_count": 23,
     "metadata": {},
     "output_type": "execute_result"
    }
   ],
   "source": [
    "df.isnull().sum()"
   ]
  },
  {
   "cell_type": "markdown",
   "id": "45a785a8",
   "metadata": {},
   "source": [
    "There are no null values in the dataset"
   ]
  },
  {
   "cell_type": "code",
   "execution_count": 27,
   "id": "d7307ad5",
   "metadata": {},
   "outputs": [],
   "source": [
    "species_count = df['Species'].value_counts()"
   ]
  },
  {
   "cell_type": "code",
   "execution_count": 28,
   "id": "9fa9eb21",
   "metadata": {},
   "outputs": [
    {
     "data": {
      "text/plain": [
       "Iris-setosa        50\n",
       "Iris-versicolor    50\n",
       "Iris-virginica     50\n",
       "Name: Species, dtype: int64"
      ]
     },
     "execution_count": 28,
     "metadata": {},
     "output_type": "execute_result"
    }
   ],
   "source": [
    "species_count"
   ]
  },
  {
   "cell_type": "code",
   "execution_count": 29,
   "id": "dd54cf8a",
   "metadata": {},
   "outputs": [
    {
     "data": {
      "text/html": [
       "<div>\n",
       "<style scoped>\n",
       "    .dataframe tbody tr th:only-of-type {\n",
       "        vertical-align: middle;\n",
       "    }\n",
       "\n",
       "    .dataframe tbody tr th {\n",
       "        vertical-align: top;\n",
       "    }\n",
       "\n",
       "    .dataframe thead th {\n",
       "        text-align: right;\n",
       "    }\n",
       "</style>\n",
       "<table border=\"1\" class=\"dataframe\">\n",
       "  <thead>\n",
       "    <tr style=\"text-align: right;\">\n",
       "      <th></th>\n",
       "      <th>Sepal_length</th>\n",
       "      <th>Sepal_width</th>\n",
       "      <th>Petal_length</th>\n",
       "      <th>Petal_width</th>\n",
       "      <th>Species</th>\n",
       "    </tr>\n",
       "  </thead>\n",
       "  <tbody>\n",
       "    <tr>\n",
       "      <th>0</th>\n",
       "      <td>5.1</td>\n",
       "      <td>3.5</td>\n",
       "      <td>1.4</td>\n",
       "      <td>0.2</td>\n",
       "      <td>Iris-setosa</td>\n",
       "    </tr>\n",
       "    <tr>\n",
       "      <th>1</th>\n",
       "      <td>4.9</td>\n",
       "      <td>3.0</td>\n",
       "      <td>1.4</td>\n",
       "      <td>0.2</td>\n",
       "      <td>Iris-setosa</td>\n",
       "    </tr>\n",
       "    <tr>\n",
       "      <th>2</th>\n",
       "      <td>4.7</td>\n",
       "      <td>3.2</td>\n",
       "      <td>1.3</td>\n",
       "      <td>0.2</td>\n",
       "      <td>Iris-setosa</td>\n",
       "    </tr>\n",
       "    <tr>\n",
       "      <th>3</th>\n",
       "      <td>4.6</td>\n",
       "      <td>3.1</td>\n",
       "      <td>1.5</td>\n",
       "      <td>0.2</td>\n",
       "      <td>Iris-setosa</td>\n",
       "    </tr>\n",
       "    <tr>\n",
       "      <th>4</th>\n",
       "      <td>5.0</td>\n",
       "      <td>3.6</td>\n",
       "      <td>1.4</td>\n",
       "      <td>0.2</td>\n",
       "      <td>Iris-setosa</td>\n",
       "    </tr>\n",
       "  </tbody>\n",
       "</table>\n",
       "</div>"
      ],
      "text/plain": [
       "   Sepal_length  Sepal_width  Petal_length  Petal_width      Species\n",
       "0           5.1          3.5           1.4          0.2  Iris-setosa\n",
       "1           4.9          3.0           1.4          0.2  Iris-setosa\n",
       "2           4.7          3.2           1.3          0.2  Iris-setosa\n",
       "3           4.6          3.1           1.5          0.2  Iris-setosa\n",
       "4           5.0          3.6           1.4          0.2  Iris-setosa"
      ]
     },
     "execution_count": 29,
     "metadata": {},
     "output_type": "execute_result"
    }
   ],
   "source": [
    "df.head()"
   ]
  },
  {
   "cell_type": "code",
   "execution_count": 30,
   "id": "cae722d2",
   "metadata": {},
   "outputs": [
    {
     "data": {
      "image/png": "[encoded data removed]",
      "text/plain": [
       "<Figure size 432x288 with 1 Axes>"
      ]
     },
     "metadata": {
      "needs_background": "light"
     },
     "output_type": "display_data"
    }
   ],
   "source": [
    "#count plot\n",
    "sns.countplot(data=df, x='Species', ec='black')\n",
    "plt.xlabel(\"Name of Species\")\n",
    "plt.ylabel(\"Count\")\n",
    "plt.grid('True')\n",
    "plt.show()"
   ]
  },
  {
   "cell_type": "code",
   "execution_count": 34,
   "id": "259171b8",
   "metadata": {},
   "outputs": [
    {
     "data": {
      "image/png": "[encoded data removed]",
      "text/plain": [
       "<Figure size 432x288 with 1 Axes>"
      ]
     },
     "metadata": {
      "needs_background": "light"
     },
     "output_type": "display_data"
    }
   ],
   "source": [
    "#Bar plot between Sepal Length and Species\n",
    "plt.bar(df['Species'], df['Sepal_length'])\n",
    "plt.title('Sepal Length Vs Species')\n",
    "plt.xlabel('Species')\n",
    "plt.ylabel('Sepal Length')\n",
    "plt.show()"
   ]
  },
  {
   "cell_type": "code",
   "execution_count": 35,
   "id": "5416c5d6",
   "metadata": {},
   "outputs": [
    {
     "data": {
      "image/png": "[encoded data removed]",
      "text/plain": [
       "<Figure size 432x288 with 1 Axes>"
      ]
     },
     "metadata": {
      "needs_background": "light"
     },
     "output_type": "display_data"
    }
   ],
   "source": [
    "#Bar plot between Sepal Width and Species\n",
    "plt.bar(df['Species'], df['Sepal_width'])\n",
    "plt.title('Sepal Width Vs Species')\n",
    "plt.xlabel('Species')\n",
    "plt.ylabel('Sepal Width')\n",
    "plt.show()"
   ]
  },
  {
   "cell_type": "code",
   "execution_count": 36,
   "id": "c69c8559",
   "metadata": {},
   "outputs": [
    {
     "data": {
      "image/png": "[encoded data removed]",
      "text/plain": [
       "<Figure size 432x288 with 1 Axes>"
      ]
     },
     "metadata": {
      "needs_background": "light"
     },
     "output_type": "display_data"
    }
   ],
   "source": [
    "#Bar plot between Petal Length and Species\n",
    "plt.bar(df['Species'], df['Petal_length'])\n",
    "plt.title('Petal Length Vs Species')\n",
    "plt.xlabel('Species')\n",
    "plt.ylabel('Petal Length')\n",
    "plt.show()"
   ]
  },
  {
   "cell_type": "code",
   "execution_count": 37,
   "id": "103bd047",
   "metadata": {},
   "outputs": [
    {
     "data": {
      "image/png": "[encoded data removed]",
      "text/plain": [
       "<Figure size 432x288 with 1 Axes>"
      ]
     },
     "metadata": {
      "needs_background": "light"
     },
     "output_type": "display_data"
    }
   ],
   "source": [
    "#Bar plot between Petal Width and Species\n",
    "plt.bar(df['Species'], df['Petal_width'])\n",
    "plt.title('Petal Width Vs Species')\n",
    "plt.xlabel('Species')\n",
    "plt.ylabel('Petal Width')\n",
    "plt.show()"
   ]
  },
  {
   "cell_type": "markdown",
   "id": "86dd6901",
   "metadata": {},
   "source": [
    "# Splitting the dataset"
   ]
  },
  {
   "cell_type": "code",
   "execution_count": 38,
   "id": "75ed1e97",
   "metadata": {},
   "outputs": [],
   "source": [
    "from sklearn.model_selection import train_test_split\n",
    "from sklearn.preprocessing import StandardScaler\n",
    "from sklearn.linear_model import LogisticRegression\n",
    "from sklearn.metrics import accuracy_score, classification_report, mean_absolute_error, mean_squared_error, r2_score "
   ]
  },
  {
   "cell_type": "code",
   "execution_count": 40,
   "id": "569afcc5",
   "metadata": {},
   "outputs": [],
   "source": [
    "X = df.drop(['Species'], axis=1)"
   ]
  },
  {
   "cell_type": "code",
   "execution_count": 41,
   "id": "37aa4cc0",
   "metadata": {},
   "outputs": [
    {
     "data": {
      "text/html": [
       "<div>\n",
       "<style scoped>\n",
       "    .dataframe tbody tr th:only-of-type {\n",
       "        vertical-align: middle;\n",
       "    }\n",
       "\n",
       "    .dataframe tbody tr th {\n",
       "        vertical-align: top;\n",
       "    }\n",
       "\n",
       "    .dataframe thead th {\n",
       "        text-align: right;\n",
       "    }\n",
       "</style>\n",
       "<table border=\"1\" class=\"dataframe\">\n",
       "  <thead>\n",
       "    <tr style=\"text-align: right;\">\n",
       "      <th></th>\n",
       "      <th>Sepal_length</th>\n",
       "      <th>Sepal_width</th>\n",
       "      <th>Petal_length</th>\n",
       "      <th>Petal_width</th>\n",
       "    </tr>\n",
       "  </thead>\n",
       "  <tbody>\n",
       "    <tr>\n",
       "      <th>0</th>\n",
       "      <td>5.1</td>\n",
       "      <td>3.5</td>\n",
       "      <td>1.4</td>\n",
       "      <td>0.2</td>\n",
       "    </tr>\n",
       "    <tr>\n",
       "      <th>1</th>\n",
       "      <td>4.9</td>\n",
       "      <td>3.0</td>\n",
       "      <td>1.4</td>\n",
       "      <td>0.2</td>\n",
       "    </tr>\n",
       "    <tr>\n",
       "      <th>2</th>\n",
       "      <td>4.7</td>\n",
       "      <td>3.2</td>\n",
       "      <td>1.3</td>\n",
       "      <td>0.2</td>\n",
       "    </tr>\n",
       "    <tr>\n",
       "      <th>3</th>\n",
       "      <td>4.6</td>\n",
       "      <td>3.1</td>\n",
       "      <td>1.5</td>\n",
       "      <td>0.2</td>\n",
       "    </tr>\n",
       "    <tr>\n",
       "      <th>4</th>\n",
       "      <td>5.0</td>\n",
       "      <td>3.6</td>\n",
       "      <td>1.4</td>\n",
       "      <td>0.2</td>\n",
       "    </tr>\n",
       "  </tbody>\n",
       "</table>\n",
       "</div>"
      ],
      "text/plain": [
       "   Sepal_length  Sepal_width  Petal_length  Petal_width\n",
       "0           5.1          3.5           1.4          0.2\n",
       "1           4.9          3.0           1.4          0.2\n",
       "2           4.7          3.2           1.3          0.2\n",
       "3           4.6          3.1           1.5          0.2\n",
       "4           5.0          3.6           1.4          0.2"
      ]
     },
     "execution_count": 41,
     "metadata": {},
     "output_type": "execute_result"
    }
   ],
   "source": [
    "X.head()"
   ]
  },
  {
   "cell_type": "code",
   "execution_count": 42,
   "id": "73dbfbff",
   "metadata": {},
   "outputs": [],
   "source": [
    "Y = df['Species']"
   ]
  },
  {
   "cell_type": "code",
   "execution_count": 43,
   "id": "df02eb74",
   "metadata": {},
   "outputs": [
    {
     "data": {
      "text/plain": [
       "0    Iris-setosa\n",
       "1    Iris-setosa\n",
       "2    Iris-setosa\n",
       "3    Iris-setosa\n",
       "4    Iris-setosa\n",
       "Name: Species, dtype: object"
      ]
     },
     "execution_count": 43,
     "metadata": {},
     "output_type": "execute_result"
    }
   ],
   "source": [
    "Y.head()"
   ]
  },
  {
   "cell_type": "code",
   "execution_count": 44,
   "id": "a02fb23d",
   "metadata": {},
   "outputs": [],
   "source": [
    "#Splitting data into training and testing data\n",
    "X_train, X_test, Y_train, Y_test = train_test_split(X, Y, test_size = 0.2, random_state=20)"
   ]
  },
  {
   "cell_type": "markdown",
   "id": "053e9c7d",
   "metadata": {},
   "source": [
    "# Feature Scaling"
   ]
  },
  {
   "cell_type": "code",
   "execution_count": 45,
   "id": "4cd83be6",
   "metadata": {},
   "outputs": [],
   "source": [
    "#Feature Scaling\n",
    "scaler = StandardScaler()\n",
    "X_train = scaler.fit_transform(X_train)"
   ]
  },
  {
   "cell_type": "code",
   "execution_count": 46,
   "id": "166d2fef",
   "metadata": {},
   "outputs": [
    {
     "data": {
      "text/plain": [
       "array([[-1.56276013e-01, -2.16061997e-01,  2.74599762e-01,\n",
       "         2.15615910e-03],\n",
       "       [-2.78049529e-01, -2.16061997e-01,  2.18078370e-01,\n",
       "         1.31525705e-01],\n",
       "       [-8.86917110e-01,  9.11217987e-01, -1.30799921e+00,\n",
       "        -1.29153930e+00],\n",
       "       [-8.86917110e-01,  1.58758598e+00, -1.19495643e+00,\n",
       "        -1.29153930e+00],\n",
       "       [-1.25223766e+00,  6.85761990e-01, -1.19495643e+00,\n",
       "        -1.29153930e+00],\n",
       "       [-1.13046414e+00, -1.34334198e+00,  4.44163938e-01,\n",
       "         6.49003890e-01],\n",
       "       [ 2.09044536e-01,  6.85761990e-01,  4.44163938e-01,\n",
       "         5.19634344e-01],\n",
       "       [-1.13046414e+00, -2.16061997e-01, -1.30799921e+00,\n",
       "        -1.29153930e+00],\n",
       "       [ 6.96138601e-01,  2.34849997e-01,  4.44163938e-01,\n",
       "         3.90264798e-01],\n",
       "       [ 1.91387376e+00, -6.66973990e-01,  1.34850621e+00,\n",
       "         9.07742982e-01],\n",
       "       [-1.56276013e-01, -6.66973990e-01,  4.44163938e-01,\n",
       "         1.31525705e-01],\n",
       "       [ 3.30818053e-01, -1.11788598e+00,  1.06589925e+00,\n",
       "         2.60895251e-01],\n",
       "       [-1.13046414e+00,  9.39399986e-03, -1.25147782e+00,\n",
       "        -1.42090885e+00],\n",
       "       [ 1.06145915e+00,  9.39399986e-03,  3.87642546e-01,\n",
       "         2.60895251e-01],\n",
       "       [ 5.74365085e-01,  4.60305993e-01,  5.57206722e-01,\n",
       "         5.19634344e-01],\n",
       "       [-1.37401118e+00,  2.34849997e-01, -1.36452060e+00,\n",
       "        -1.29153930e+00],\n",
       "       [-5.21596561e-01,  1.81304197e+00, -1.13843504e+00,\n",
       "        -1.03280021e+00],\n",
       "       [-1.00869063e+00,  4.60305993e-01, -1.30799921e+00,\n",
       "        -1.29153930e+00],\n",
       "       [-1.56276013e-01, -1.34334198e+00,  7.26770898e-01,\n",
       "         1.03711253e+00],\n",
       "       [-8.86917110e-01,  1.58758598e+00, -1.02539225e+00,\n",
       "        -1.03280021e+00],\n",
       "       [ 6.96138601e-01, -6.66973990e-01,  1.06589925e+00,\n",
       "         1.29585162e+00],\n",
       "       [ 4.52591569e-01,  6.85761990e-01,  9.52856465e-01,\n",
       "         1.42522117e+00],\n",
       "       [-5.21596561e-01,  6.85761990e-01, -1.25147782e+00,\n",
       "        -1.03280021e+00],\n",
       "       [ 5.74365085e-01,  4.60305993e-01,  1.29198482e+00,\n",
       "         1.68396026e+00],\n",
       "       [ 2.09044536e-01, -2.01970997e+00,  1.61556979e-01,\n",
       "        -2.56582933e-01],\n",
       "       [-2.78049529e-01, -4.41517994e-01, -6.45285891e-02,\n",
       "         1.31525705e-01],\n",
       "       [-2.78049529e-01, -2.16061997e-01,  4.44163938e-01,\n",
       "         3.90264798e-01],\n",
       "       [-1.61755821e+00, -1.79425397e+00, -1.36452060e+00,\n",
       "        -1.16216976e+00],\n",
       "       [-8.86917110e-01,  6.85761990e-01, -1.25147782e+00,\n",
       "        -1.29153930e+00],\n",
       "       [-3.99823045e-01, -1.56879798e+00,  4.85141947e-02,\n",
       "        -1.27213387e-01],\n",
       "       [ 4.52591569e-01, -4.41517994e-01,  3.31121154e-01,\n",
       "         1.31525705e-01],\n",
       "       [-3.45024963e-02, -1.11788598e+00,  1.61556979e-01,\n",
       "         2.15615910e-03],\n",
       "       [-2.78049529e-01, -1.34334198e+00,  1.05035587e-01,\n",
       "        -1.27213387e-01],\n",
       "       [ 1.06145915e+00,  9.39399986e-03,  5.57206722e-01,\n",
       "         3.90264798e-01],\n",
       "       [ 8.17912118e-01, -6.66973990e-01,  5.00685330e-01,\n",
       "         3.90264798e-01],\n",
       "       [-1.56276013e-01, -4.41517994e-01,  2.74599762e-01,\n",
       "         1.31525705e-01],\n",
       "       [-8.86917110e-01,  4.60305993e-01, -1.13843504e+00,\n",
       "        -9.03430664e-01],\n",
       "       [ 4.52591569e-01, -2.01970997e+00,  4.44163938e-01,\n",
       "         3.90264798e-01],\n",
       "       [ 5.74365085e-01, -1.79425397e+00,  3.87642546e-01,\n",
       "         1.31525705e-01],\n",
       "       [-1.13046414e+00,  9.39399986e-03, -1.25147782e+00,\n",
       "        -1.42090885e+00],\n",
       "       [-1.73933172e+00, -2.16061997e-01, -1.36452060e+00,\n",
       "        -1.29153930e+00],\n",
       "       [-5.21596561e-01, -2.16061997e-01,  4.44163938e-01,\n",
       "         3.90264798e-01],\n",
       "       [-3.99823045e-01, -1.79425397e+00,  1.61556979e-01,\n",
       "         1.31525705e-01],\n",
       "       [ 3.30818053e-01, -2.16061997e-01,  5.00685330e-01,\n",
       "         2.60895251e-01],\n",
       "       [-8.86917110e-01,  1.58758598e+00, -1.25147782e+00,\n",
       "        -1.16216976e+00],\n",
       "       [-6.43370078e-01,  1.36212998e+00, -1.25147782e+00,\n",
       "        -1.29153930e+00],\n",
       "       [ 6.96138601e-01,  2.34849997e-01,  8.96335074e-01,\n",
       "         1.42522117e+00],\n",
       "       [-3.99823045e-01,  9.11217987e-01, -1.36452060e+00,\n",
       "        -1.29153930e+00],\n",
       "       [-1.25223766e+00,  9.39399986e-03, -1.19495643e+00,\n",
       "        -1.29153930e+00],\n",
       "       [-1.00869063e+00, -2.47062196e+00, -1.21049981e-01,\n",
       "        -2.56582933e-01],\n",
       "       [ 2.09044536e-01, -2.16061997e-01,  6.13728114e-01,\n",
       "         7.78373436e-01],\n",
       "       [-3.45024963e-02, -8.92429987e-01,  7.83292290e-01,\n",
       "         9.07742982e-01],\n",
       "       [-2.78049529e-01, -6.66973990e-01,  6.70249506e-01,\n",
       "         1.03711253e+00],\n",
       "       [ 5.74365085e-01, -4.41517994e-01,  1.06589925e+00,\n",
       "         7.78373436e-01],\n",
       "       [ 6.96138601e-01, -6.66973990e-01,  1.06589925e+00,\n",
       "         1.16648207e+00],\n",
       "       [ 1.54855322e+00, -2.16061997e-01,  1.23546343e+00,\n",
       "         1.16648207e+00],\n",
       "       [-3.45024963e-02, -8.92429987e-01,  1.05035587e-01,\n",
       "         2.15615910e-03],\n",
       "       [ 8.17912118e-01, -2.16061997e-01,  1.00937786e+00,\n",
       "         7.78373436e-01],\n",
       "       [ 2.27919431e+00, -2.16061997e-01,  1.34850621e+00,\n",
       "         1.42522117e+00],\n",
       "       [ 1.67032673e+00,  1.13667398e+00,  1.34850621e+00,\n",
       "         1.68396026e+00],\n",
       "       [-1.73933172e+00, -4.41517994e-01, -1.30799921e+00,\n",
       "        -1.29153930e+00],\n",
       "       [ 1.18323267e+00, -2.16061997e-01,  1.00937786e+00,\n",
       "         1.16648207e+00],\n",
       "       [-7.65143594e-01,  9.11217987e-01, -1.25147782e+00,\n",
       "        -1.29153930e+00],\n",
       "       [-1.00869063e+00,  1.13667398e+00, -1.30799921e+00,\n",
       "        -1.29153930e+00],\n",
       "       [-3.45024963e-02,  2.03849797e+00, -1.42104200e+00,\n",
       "        -1.29153930e+00],\n",
       "       [ 1.06145915e+00, -2.16061997e-01,  8.39813682e-01,\n",
       "         1.42522117e+00],\n",
       "       [ 1.30500618e+00,  9.39399986e-03,  6.70249506e-01,\n",
       "         3.90264798e-01],\n",
       "       [ 8.72710200e-02,  2.34849997e-01,  6.13728114e-01,\n",
       "         7.78373436e-01],\n",
       "       [ 1.30500618e+00,  9.39399986e-03,  9.52856465e-01,\n",
       "         1.16648207e+00],\n",
       "       [ 5.74365085e-01, -8.92429987e-01,  6.70249506e-01,\n",
       "         7.78373436e-01],\n",
       "       [-2.78049529e-01, -8.92429987e-01,  2.74599762e-01,\n",
       "         1.31525705e-01],\n",
       "       [-1.73933172e+00,  2.34849997e-01, -1.36452060e+00,\n",
       "        -1.29153930e+00],\n",
       "       [ 3.30818053e-01, -2.16061997e-01,  6.70249506e-01,\n",
       "         7.78373436e-01],\n",
       "       [-3.99823045e-01,  2.48940996e+00, -1.30799921e+00,\n",
       "        -1.29153930e+00],\n",
       "       [-1.00869063e+00, -1.79425397e+00, -2.34092765e-01,\n",
       "        -2.56582933e-01],\n",
       "       [ 2.27919431e+00,  1.58758598e+00,  1.68763456e+00,\n",
       "         1.29585162e+00],\n",
       "       [-1.25223766e+00,  6.85761990e-01, -1.02539225e+00,\n",
       "        -1.29153930e+00],\n",
       "       [ 2.09044536e-01, -4.41517994e-01,  4.44163938e-01,\n",
       "         3.90264798e-01],\n",
       "       [ 3.30818053e-01, -4.41517994e-01,  5.57206722e-01,\n",
       "         2.60895251e-01],\n",
       "       [ 4.52591569e-01, -6.66973990e-01,  6.13728114e-01,\n",
       "         7.78373436e-01],\n",
       "       [-1.25223766e+00, -2.16061997e-01, -1.30799921e+00,\n",
       "        -1.16216976e+00],\n",
       "       [-1.37401118e+00,  2.34849997e-01, -1.19495643e+00,\n",
       "        -1.29153930e+00],\n",
       "       [ 1.67032673e+00,  2.34849997e-01,  1.29198482e+00,\n",
       "         7.78373436e-01],\n",
       "       [ 1.06145915e+00,  4.60305993e-01,  1.12242064e+00,\n",
       "         1.68396026e+00],\n",
       "       [-7.65143594e-01, -8.92429987e-01,  1.05035587e-01,\n",
       "         2.60895251e-01],\n",
       "       [-3.99823045e-01, -1.11788598e+00,  3.87642546e-01,\n",
       "         2.15615910e-03],\n",
       "       [-1.56276013e-01, -1.11788598e+00, -1.21049981e-01,\n",
       "        -2.56582933e-01],\n",
       "       [ 1.06145915e+00,  4.60305993e-01,  1.12242064e+00,\n",
       "         1.16648207e+00],\n",
       "       [ 1.06145915e+00,  9.39399986e-03,  1.06589925e+00,\n",
       "         1.55459071e+00],\n",
       "       [-1.00869063e+00,  9.11217987e-01, -1.19495643e+00,\n",
       "        -7.74061118e-01],\n",
       "       [ 1.30500618e+00,  2.34849997e-01,  1.12242064e+00,\n",
       "         1.42522117e+00],\n",
       "       [-8.86917110e-01,  9.11217987e-01, -1.30799921e+00,\n",
       "        -1.16216976e+00],\n",
       "       [ 1.06145915e+00, -2.16061997e-01,  7.26770898e-01,\n",
       "         6.49003890e-01],\n",
       "       [-1.49578469e+00,  9.39399986e-03, -1.25147782e+00,\n",
       "        -1.29153930e+00],\n",
       "       [-1.56276013e-01,  1.58758598e+00, -1.13843504e+00,\n",
       "        -1.16216976e+00],\n",
       "       [ 5.74365085e-01, -1.34334198e+00,  7.26770898e-01,\n",
       "         9.07742982e-01],\n",
       "       [ 5.74365085e-01,  6.85761990e-01,  1.06589925e+00,\n",
       "         1.55459071e+00],\n",
       "       [ 1.79210025e+00, -4.41517994e-01,  1.46154899e+00,\n",
       "         7.78373436e-01],\n",
       "       [-5.21596561e-01,  1.36212998e+00, -1.25147782e+00,\n",
       "        -1.29153930e+00],\n",
       "       [-7.65143594e-01,  2.26395397e+00, -1.25147782e+00,\n",
       "        -1.42090885e+00],\n",
       "       [ 8.17912118e-01,  2.34849997e-01,  7.83292290e-01,\n",
       "         1.03711253e+00],\n",
       "       [ 2.09044536e-01, -8.92429987e-01,  7.83292290e-01,\n",
       "         5.19634344e-01],\n",
       "       [ 8.72710200e-02, -2.16061997e-01,  2.74599762e-01,\n",
       "         3.90264798e-01],\n",
       "       [ 2.52274135e+00,  1.58758598e+00,  1.51807038e+00,\n",
       "         1.03711253e+00],\n",
       "       [-1.00869063e+00, -2.16061997e-01, -1.19495643e+00,\n",
       "        -1.29153930e+00],\n",
       "       [ 1.30500618e+00,  9.39399986e-03,  7.83292290e-01,\n",
       "         1.42522117e+00],\n",
       "       [-1.49578469e+00,  6.85761990e-01, -1.30799921e+00,\n",
       "        -1.16216976e+00],\n",
       "       [-1.00869063e+00,  6.85761990e-01, -1.25147782e+00,\n",
       "        -1.29153930e+00],\n",
       "       [-3.45024963e-02, -8.92429987e-01,  7.83292290e-01,\n",
       "         9.07742982e-01],\n",
       "       [ 2.15742080e+00, -2.16061997e-01,  1.63111317e+00,\n",
       "         1.16648207e+00],\n",
       "       [-5.21596561e-01,  1.81304197e+00, -1.36452060e+00,\n",
       "        -1.03280021e+00],\n",
       "       [-1.00869063e+00,  6.85761990e-01, -1.19495643e+00,\n",
       "        -1.03280021e+00],\n",
       "       [-1.00869063e+00,  9.11217987e-01, -1.36452060e+00,\n",
       "        -1.16216976e+00],\n",
       "       [ 2.27919431e+00, -1.11788598e+00,  1.80067734e+00,\n",
       "         1.42522117e+00],\n",
       "       [ 3.30818053e-01, -6.66973990e-01,  1.61556979e-01,\n",
       "         1.31525705e-01],\n",
       "       [-1.49578469e+00,  1.13667398e+00, -1.53408478e+00,\n",
       "        -1.29153930e+00],\n",
       "       [ 9.39685634e-01, -2.16061997e-01,  3.87642546e-01,\n",
       "         2.60895251e-01],\n",
       "       [ 6.96138601e-01,  9.39399986e-03,  1.00937786e+00,\n",
       "         7.78373436e-01],\n",
       "       [-1.56276013e-01,  2.94032196e+00, -1.25147782e+00,\n",
       "        -1.03280021e+00],\n",
       "       [-1.56276013e-01, -6.66973990e-01,  2.18078370e-01,\n",
       "         1.31525705e-01]])"
      ]
     },
     "execution_count": 46,
     "metadata": {},
     "output_type": "execute_result"
    }
   ],
   "source": [
    "X_train"
   ]
  },
  {
   "cell_type": "code",
   "execution_count": 47,
   "id": "baf649da",
   "metadata": {},
   "outputs": [],
   "source": [
    "X_test = scaler.fit_transform(X_test)"
   ]
  },
  {
   "cell_type": "code",
   "execution_count": 48,
   "id": "bac65158",
   "metadata": {},
   "outputs": [
    {
     "data": {
      "text/plain": [
       "array([[-1.55372961,  0.93700636, -1.48915695, -1.41045734],\n",
       "       [ 0.23445025, -0.25917197,  0.44811688,  0.        ],\n",
       "       [ 0.59208622,  0.03987261,  0.21329581,  0.14104573],\n",
       "       [ 1.54578214,  0.33891719,  1.09387482,  0.56418294],\n",
       "       [-0.12318572, -0.55821656,  0.09588527, -0.28209147],\n",
       "       [-0.4808217 , -1.15630572,  0.03718   ,  0.14104573],\n",
       "       [ 1.06893418,  0.93700636,  1.15258008,  1.55150308],\n",
       "       [-0.95766966,  2.43222928, -1.43045168, -1.12836588],\n",
       "       [ 0.94972219, -1.15630572,  1.09387482,  0.84627441],\n",
       "       [-1.31530563,  0.33891719, -1.48915695, -1.55150308],\n",
       "       [ 0.71129821,  0.33891719,  0.74164321,  1.12836588],\n",
       "       [ 1.06893418, -0.25917197,  0.50682214,  0.28209147],\n",
       "       [ 0.11523826, -2.05343947,  0.62423268,  0.4231372 ],\n",
       "       [-1.07688165,  0.93700636, -1.60656749, -1.41045734],\n",
       "       [-0.83845767,  1.53509553, -1.48915695, -1.41045734],\n",
       "       [ 2.1418421 , -0.25917197,  1.62222222,  1.12836588],\n",
       "       [-1.91136558,  0.33891719, -1.66527275, -1.55150308],\n",
       "       [ 0.8305102 ,  0.03987261,  0.38941161,  0.14104573],\n",
       "       [-0.12318572, -0.25917197,  0.68293794,  1.69254881],\n",
       "       [-1.19609364, -1.45535031, -0.37375687, -0.28209147],\n",
       "       [ 1.30735816,  0.93700636,  0.44811688,  0.28209147],\n",
       "       [-0.00397373,  0.33891719,  0.68293794,  0.84627441],\n",
       "       [ 0.59208622, -0.55821656,  0.80034848,  0.98732014],\n",
       "       [-0.60003369,  1.53509553, -1.31304115, -1.41045734],\n",
       "       [ 0.47287423, -1.15630572,  0.56552741,  0.4231372 ],\n",
       "       [-0.4808217 , -1.45535031, -0.1389358 , -0.28209147],\n",
       "       [-0.95766966, -1.15630572, -0.54987267, -0.14104573],\n",
       "       [-1.19609364,  0.63796178, -1.43045168, -1.55150308],\n",
       "       [ 0.71129821,  0.33891719,  1.09387482,  1.41045734],\n",
       "       [ 0.47287423, -0.25917197,  0.68293794,  0.4231372 ]])"
      ]
     },
     "execution_count": 48,
     "metadata": {},
     "output_type": "execute_result"
    }
   ],
   "source": [
    "X_test"
   ]
  },
  {
   "cell_type": "markdown",
   "id": "d9788000",
   "metadata": {},
   "source": [
    "# Fitting the Logistic Regression Model"
   ]
  },
  {
   "cell_type": "code",
   "execution_count": 49,
   "id": "a0c1d901",
   "metadata": {},
   "outputs": [
    {
     "data": {
      "text/plain": [
       "LogisticRegression()"
      ]
     },
     "execution_count": 49,
     "metadata": {},
     "output_type": "execute_result"
    }
   ],
   "source": [
    "model = LogisticRegression()\n",
    "model.fit(X_train, Y_train)"
   ]
  },
  {
   "cell_type": "code",
   "execution_count": 50,
   "id": "71b2b007",
   "metadata": {},
   "outputs": [],
   "source": [
    "y_pred = model.predict(X_test)"
   ]
  },
  {
   "cell_type": "code",
   "execution_count": 51,
   "id": "00bc95a0",
   "metadata": {},
   "outputs": [
    {
     "data": {
      "text/plain": [
       "array(['Iris-setosa', 'Iris-versicolor', 'Iris-versicolor',\n",
       "       'Iris-virginica', 'Iris-versicolor', 'Iris-versicolor',\n",
       "       'Iris-virginica', 'Iris-setosa', 'Iris-virginica', 'Iris-setosa',\n",
       "       'Iris-virginica', 'Iris-versicolor', 'Iris-versicolor',\n",
       "       'Iris-setosa', 'Iris-setosa', 'Iris-virginica', 'Iris-setosa',\n",
       "       'Iris-versicolor', 'Iris-virginica', 'Iris-versicolor',\n",
       "       'Iris-versicolor', 'Iris-virginica', 'Iris-virginica',\n",
       "       'Iris-setosa', 'Iris-versicolor', 'Iris-versicolor',\n",
       "       'Iris-versicolor', 'Iris-setosa', 'Iris-virginica',\n",
       "       'Iris-versicolor'], dtype=object)"
      ]
     },
     "execution_count": 51,
     "metadata": {},
     "output_type": "execute_result"
    }
   ],
   "source": [
    "y_pred"
   ]
  },
  {
   "cell_type": "markdown",
   "id": "7f794704",
   "metadata": {},
   "source": [
    "# Model Evaluation"
   ]
  },
  {
   "cell_type": "code",
   "execution_count": 52,
   "id": "94b2cf38",
   "metadata": {},
   "outputs": [
    {
     "name": "stdout",
     "output_type": "stream",
     "text": [
      "Training Accuracy =  0.9583333333333334\n"
     ]
    }
   ],
   "source": [
    "#Training Accuracy\n",
    "print(\"Training Accuracy = \", model.score(X_train, Y_train))"
   ]
  },
  {
   "cell_type": "code",
   "execution_count": 54,
   "id": "a99f7c76",
   "metadata": {},
   "outputs": [
    {
     "name": "stdout",
     "output_type": "stream",
     "text": [
      "Testing Accuracy =  0.9333333333333333\n"
     ]
    }
   ],
   "source": [
    "#Testing Accuracy\n",
    "print(\"Testing Accuracy = \", model.score(X_test, Y_test))"
   ]
  },
  {
   "cell_type": "code",
   "execution_count": 55,
   "id": "276b9f24",
   "metadata": {},
   "outputs": [
    {
     "data": {
      "image/png": "[encoded data removed]",
      "text/plain": [
       "<Figure size 432x288 with 2 Axes>"
      ]
     },
     "metadata": {
      "needs_background": "light"
     },
     "output_type": "display_data"
    }
   ],
   "source": [
    "from sklearn.metrics import confusion_matrix\n",
    "cm = confusion_matrix(Y_test, y_pred)\n",
    "\n",
    "sns.heatmap(cm, annot=True, fmt='g')\n",
    "plt.ylabel('Predicted')\n",
    "plt.xlabel('Actual')\n",
    "plt.title('Confusion Matrix')\n",
    "plt.show()"
   ]
  },
  {
   "cell_type": "code",
   "execution_count": null,
   "id": "ef7df5bb",
   "metadata": {},
   "outputs": [],
   "source": []
  }
 ],
 "metadata": {
  "kernelspec": {
   "display_name": "Python 3 (ipykernel)",
   "language": "python",
   "name": "python3"
  },
  "language_info": {
   "codemirror_mode": {
    "name": "ipython",
    "version": 3
   },
   "file_extension": ".py",
   "mimetype": "text/x-python",
   "name": "python",
   "nbconvert_exporter": "python",
   "pygments_lexer": "ipython3",
   "version": "3.9.7"
  }
 },
 "nbformat": 4,
 "nbformat_minor": 5
}
